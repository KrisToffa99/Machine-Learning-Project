{
 "cells": [
  {
   "cell_type": "code",
   "execution_count": 100,
   "id": "cd13fc3a",
   "metadata": {},
   "outputs": [],
   "source": [
    "import pandas as pd\n",
    "import numpy as np\n",
    "import csv"
   ]
  },
  {
   "cell_type": "code",
   "execution_count": 101,
   "id": "b9bc26d9",
   "metadata": {},
   "outputs": [],
   "source": [
    "movies = pd.read_csv('TheMovies.csv')"
   ]
  },
  {
   "cell_type": "code",
   "execution_count": null,
   "id": "003150b0",
   "metadata": {},
   "outputs": [],
   "source": []
  },
  {
   "cell_type": "code",
   "execution_count": 103,
   "id": "07692664",
   "metadata": {},
   "outputs": [],
   "source": [
    "df2 = pd.read_csv('movie_credit.csv')"
   ]
  },
  {
   "cell_type": "code",
   "execution_count": 104,
   "id": "d38fb75a",
   "metadata": {},
   "outputs": [
    {
     "data": {
      "text/html": [
       "<div>\n",
       "<style scoped>\n",
       "    .dataframe tbody tr th:only-of-type {\n",
       "        vertical-align: middle;\n",
       "    }\n",
       "\n",
       "    .dataframe tbody tr th {\n",
       "        vertical-align: top;\n",
       "    }\n",
       "\n",
       "    .dataframe thead th {\n",
       "        text-align: right;\n",
       "    }\n",
       "</style>\n",
       "<table border=\"1\" class=\"dataframe\">\n",
       "  <thead>\n",
       "    <tr style=\"text-align: right;\">\n",
       "      <th></th>\n",
       "      <th>movie_id</th>\n",
       "      <th>title</th>\n",
       "      <th>cast</th>\n",
       "      <th>crew</th>\n",
       "    </tr>\n",
       "  </thead>\n",
       "  <tbody>\n",
       "    <tr>\n",
       "      <th>0</th>\n",
       "      <td>19995</td>\n",
       "      <td>Avatar</td>\n",
       "      <td>[{\"cast_id\": 242, \"character\": \"Jake Sully\", \"...</td>\n",
       "      <td>[{\"credit_id\": \"52fe48009251416c750aca23\", \"de...</td>\n",
       "    </tr>\n",
       "    <tr>\n",
       "      <th>1</th>\n",
       "      <td>285</td>\n",
       "      <td>Pirates of the Caribbean: At World's End</td>\n",
       "      <td>[{\"cast_id\": 4, \"character\": \"Captain Jack Spa...</td>\n",
       "      <td>[{\"credit_id\": \"52fe4232c3a36847f800b579\", \"de...</td>\n",
       "    </tr>\n",
       "    <tr>\n",
       "      <th>2</th>\n",
       "      <td>206647</td>\n",
       "      <td>Spectre</td>\n",
       "      <td>[{\"cast_id\": 1, \"character\": \"James Bond\", \"cr...</td>\n",
       "      <td>[{\"credit_id\": \"54805967c3a36829b5002c41\", \"de...</td>\n",
       "    </tr>\n",
       "    <tr>\n",
       "      <th>3</th>\n",
       "      <td>49026</td>\n",
       "      <td>The Dark Knight Rises</td>\n",
       "      <td>[{\"cast_id\": 2, \"character\": \"Bruce Wayne / Ba...</td>\n",
       "      <td>[{\"credit_id\": \"52fe4781c3a36847f81398c3\", \"de...</td>\n",
       "    </tr>\n",
       "    <tr>\n",
       "      <th>4</th>\n",
       "      <td>49529</td>\n",
       "      <td>John Carter</td>\n",
       "      <td>[{\"cast_id\": 5, \"character\": \"John Carter\", \"c...</td>\n",
       "      <td>[{\"credit_id\": \"52fe479ac3a36847f813eaa3\", \"de...</td>\n",
       "    </tr>\n",
       "  </tbody>\n",
       "</table>\n",
       "</div>"
      ],
      "text/plain": [
       "   movie_id                                     title  \\\n",
       "0     19995                                    Avatar   \n",
       "1       285  Pirates of the Caribbean: At World's End   \n",
       "2    206647                                   Spectre   \n",
       "3     49026                     The Dark Knight Rises   \n",
       "4     49529                               John Carter   \n",
       "\n",
       "                                                cast  \\\n",
       "0  [{\"cast_id\": 242, \"character\": \"Jake Sully\", \"...   \n",
       "1  [{\"cast_id\": 4, \"character\": \"Captain Jack Spa...   \n",
       "2  [{\"cast_id\": 1, \"character\": \"James Bond\", \"cr...   \n",
       "3  [{\"cast_id\": 2, \"character\": \"Bruce Wayne / Ba...   \n",
       "4  [{\"cast_id\": 5, \"character\": \"John Carter\", \"c...   \n",
       "\n",
       "                                                crew  \n",
       "0  [{\"credit_id\": \"52fe48009251416c750aca23\", \"de...  \n",
       "1  [{\"credit_id\": \"52fe4232c3a36847f800b579\", \"de...  \n",
       "2  [{\"credit_id\": \"54805967c3a36829b5002c41\", \"de...  \n",
       "3  [{\"credit_id\": \"52fe4781c3a36847f81398c3\", \"de...  \n",
       "4  [{\"credit_id\": \"52fe479ac3a36847f813eaa3\", \"de...  "
      ]
     },
     "execution_count": 104,
     "metadata": {},
     "output_type": "execute_result"
    }
   ],
   "source": [
    "df2.head()"
   ]
  },
  {
   "cell_type": "code",
   "execution_count": 105,
   "id": "38e6430a",
   "metadata": {},
   "outputs": [],
   "source": [
    "movies = movies.merge(df2, on='title')"
   ]
  },
  {
   "cell_type": "code",
   "execution_count": 106,
   "id": "b44e3576",
   "metadata": {},
   "outputs": [
    {
     "name": "stdout",
     "output_type": "stream",
     "text": [
      "<class 'pandas.core.frame.DataFrame'>\n",
      "Int64Index: 4809 entries, 0 to 4808\n",
      "Data columns (total 23 columns):\n",
      " #   Column                Non-Null Count  Dtype  \n",
      "---  ------                --------------  -----  \n",
      " 0   budget                4809 non-null   int64  \n",
      " 1   genres                4809 non-null   object \n",
      " 2   homepage              1713 non-null   object \n",
      " 3   id                    4809 non-null   int64  \n",
      " 4   keywords              4809 non-null   object \n",
      " 5   original_language     4809 non-null   object \n",
      " 6   original_title        4809 non-null   object \n",
      " 7   overview              4806 non-null   object \n",
      " 8   popularity            4809 non-null   float64\n",
      " 9   production_companies  4809 non-null   object \n",
      " 10  production_countries  4809 non-null   object \n",
      " 11  release_date          4808 non-null   object \n",
      " 12  revenue               4809 non-null   int64  \n",
      " 13  runtime               4807 non-null   float64\n",
      " 14  spoken_languages      4809 non-null   object \n",
      " 15  status                4809 non-null   object \n",
      " 16  tagline               3965 non-null   object \n",
      " 17  title                 4809 non-null   object \n",
      " 18  vote_average          4809 non-null   float64\n",
      " 19  vote_count            4809 non-null   int64  \n",
      " 20  movie_id              4809 non-null   int64  \n",
      " 21  cast                  4809 non-null   object \n",
      " 22  crew                  4809 non-null   object \n",
      "dtypes: float64(3), int64(5), object(15)\n",
      "memory usage: 901.7+ KB\n"
     ]
    }
   ],
   "source": [
    "movies.info()"
   ]
  },
  {
   "cell_type": "code",
   "execution_count": 107,
   "id": "637dcb38",
   "metadata": {},
   "outputs": [],
   "source": [
    "# convert list\n",
    "\n",
    "import ast\n",
    "def str_list(x):\n",
    "    x=ast.literal_eval(x)\n",
    "    l=[]\n",
    "    for item in x:\n",
    "        l.append(item['name'])\n",
    "        \n",
    "    return l"
   ]
  },
  {
   "cell_type": "code",
   "execution_count": 108,
   "id": "3b5580dd",
   "metadata": {},
   "outputs": [],
   "source": [
    "movies['cast']=movies['cast'].apply(str_list)"
   ]
  },
  {
   "cell_type": "code",
   "execution_count": 109,
   "id": "689bb22c",
   "metadata": {},
   "outputs": [],
   "source": [
    "import ast\n",
    "def str2_list(x):\n",
    "    x=ast.literal_eval(x)\n",
    "    l=[]\n",
    "    for item in x:\n",
    "        if item['job']=='Director':\n",
    "            l.append(item['name'])\n",
    "    return l"
   ]
  },
  {
   "cell_type": "code",
   "execution_count": 110,
   "id": "13562493",
   "metadata": {},
   "outputs": [],
   "source": [
    "movies['crew']=movies['crew'].apply(str2_list)"
   ]
  },
  {
   "cell_type": "code",
   "execution_count": 111,
   "id": "6d106385",
   "metadata": {},
   "outputs": [
    {
     "data": {
      "text/plain": [
       "0       [Sam Worthington, Zoe Saldana, Sigourney Weave...\n",
       "1       [Johnny Depp, Orlando Bloom, Keira Knightley, ...\n",
       "2       [Daniel Craig, Christoph Waltz, Léa Seydoux, R...\n",
       "3       [Christian Bale, Michael Caine, Gary Oldman, A...\n",
       "4       [Taylor Kitsch, Lynn Collins, Samantha Morton,...\n",
       "                              ...                        \n",
       "4804    [Carlos Gallardo, Jaime de Hoyos, Peter Marqua...\n",
       "4805    [Edward Burns, Kerry Bishé, Marsha Dietlein, C...\n",
       "4806    [Eric Mabius, Kristin Booth, Crystal Lowe, Geo...\n",
       "4807    [Daniel Henney, Eliza Coupe, Bill Paxton, Alan...\n",
       "4808    [Drew Barrymore, Brian Herzlinger, Corey Feldm...\n",
       "Name: cast, Length: 4809, dtype: object"
      ]
     },
     "execution_count": 111,
     "metadata": {},
     "output_type": "execute_result"
    }
   ],
   "source": [
    "movies['cast']"
   ]
  },
  {
   "cell_type": "code",
   "execution_count": 112,
   "id": "72b08aa6",
   "metadata": {},
   "outputs": [
    {
     "data": {
      "text/plain": [
       "0                                [James Cameron]\n",
       "1                               [Gore Verbinski]\n",
       "2                                   [Sam Mendes]\n",
       "3                            [Christopher Nolan]\n",
       "4                               [Andrew Stanton]\n",
       "                          ...                   \n",
       "4804                          [Robert Rodriguez]\n",
       "4805                              [Edward Burns]\n",
       "4806                               [Scott Smith]\n",
       "4807                               [Daniel Hsia]\n",
       "4808    [Brian Herzlinger, Jon Gunn, Brett Winn]\n",
       "Name: crew, Length: 4809, dtype: object"
      ]
     },
     "execution_count": 112,
     "metadata": {},
     "output_type": "execute_result"
    }
   ],
   "source": [
    "movies['crew']"
   ]
  },
  {
   "cell_type": "code",
   "execution_count": 113,
   "id": "337ed4bc",
   "metadata": {},
   "outputs": [],
   "source": [
    "movies['genres']=movies['genres'].apply(str_list)\n",
    "movies['keywords']=movies['keywords'].apply(str_list)"
   ]
  },
  {
   "cell_type": "code",
   "execution_count": 114,
   "id": "229a4ba9",
   "metadata": {},
   "outputs": [
    {
     "data": {
      "text/plain": [
       "budget                     0\n",
       "genres                     0\n",
       "homepage                3096\n",
       "id                         0\n",
       "keywords                   0\n",
       "original_language          0\n",
       "original_title             0\n",
       "overview                   3\n",
       "popularity                 0\n",
       "production_companies       0\n",
       "production_countries       0\n",
       "release_date               1\n",
       "revenue                    0\n",
       "runtime                    2\n",
       "spoken_languages           0\n",
       "status                     0\n",
       "tagline                  844\n",
       "title                      0\n",
       "vote_average               0\n",
       "vote_count                 0\n",
       "movie_id                   0\n",
       "cast                       0\n",
       "crew                       0\n",
       "dtype: int64"
      ]
     },
     "execution_count": 114,
     "metadata": {},
     "output_type": "execute_result"
    }
   ],
   "source": [
    "# Finding NA values\n",
    "\n",
    "movies.isna().sum()"
   ]
  },
  {
   "cell_type": "code",
   "execution_count": 115,
   "id": "9655be7d",
   "metadata": {},
   "outputs": [
    {
     "data": {
      "text/html": [
       "<div>\n",
       "<style scoped>\n",
       "    .dataframe tbody tr th:only-of-type {\n",
       "        vertical-align: middle;\n",
       "    }\n",
       "\n",
       "    .dataframe tbody tr th {\n",
       "        vertical-align: top;\n",
       "    }\n",
       "\n",
       "    .dataframe thead th {\n",
       "        text-align: right;\n",
       "    }\n",
       "</style>\n",
       "<table border=\"1\" class=\"dataframe\">\n",
       "  <thead>\n",
       "    <tr style=\"text-align: right;\">\n",
       "      <th></th>\n",
       "      <th>budget</th>\n",
       "      <th>genres</th>\n",
       "      <th>homepage</th>\n",
       "      <th>id</th>\n",
       "      <th>keywords</th>\n",
       "      <th>original_language</th>\n",
       "      <th>original_title</th>\n",
       "      <th>overview</th>\n",
       "      <th>popularity</th>\n",
       "      <th>production_companies</th>\n",
       "      <th>...</th>\n",
       "      <th>runtime</th>\n",
       "      <th>spoken_languages</th>\n",
       "      <th>status</th>\n",
       "      <th>tagline</th>\n",
       "      <th>title</th>\n",
       "      <th>vote_average</th>\n",
       "      <th>vote_count</th>\n",
       "      <th>movie_id</th>\n",
       "      <th>cast</th>\n",
       "      <th>crew</th>\n",
       "    </tr>\n",
       "  </thead>\n",
       "  <tbody>\n",
       "    <tr>\n",
       "      <th>198</th>\n",
       "      <td>130000000</td>\n",
       "      <td>[Fantasy, Action, Comedy, Crime]</td>\n",
       "      <td>http://www.ripd.com/</td>\n",
       "      <td>49524</td>\n",
       "      <td>[gold, police operation, partner, revenge, und...</td>\n",
       "      <td>en</td>\n",
       "      <td>R.I.P.D.</td>\n",
       "      <td>A recently slain cop joins a team of undead po...</td>\n",
       "      <td>39.448066</td>\n",
       "      <td>[{\"name\": \"Universal Pictures\", \"id\": 33}, {\"n...</td>\n",
       "      <td>...</td>\n",
       "      <td>96.0</td>\n",
       "      <td>[{\"iso_639_1\": \"en\", \"name\": \"English\"}]</td>\n",
       "      <td>Released</td>\n",
       "      <td>To protect and serve the living</td>\n",
       "      <td>R.I.P.D.</td>\n",
       "      <td>5.4</td>\n",
       "      <td>1260</td>\n",
       "      <td>49524</td>\n",
       "      <td>[Jeff Bridges, Ryan Reynolds, Kevin Bacon, Ste...</td>\n",
       "      <td>[Robert Schwentke]</td>\n",
       "    </tr>\n",
       "    <tr>\n",
       "      <th>2733</th>\n",
       "      <td>13000000</td>\n",
       "      <td>[Comedy, Drama, War]</td>\n",
       "      <td>NaN</td>\n",
       "      <td>801</td>\n",
       "      <td>[rock and roll, radio station, war crimes, ent...</td>\n",
       "      <td>en</td>\n",
       "      <td>Good Morning, Vietnam</td>\n",
       "      <td>Radio funny man Adrian Cronauer is sent to Vie...</td>\n",
       "      <td>18.362333</td>\n",
       "      <td>[{\"name\": \"Silver Screen Partners III\", \"id\": ...</td>\n",
       "      <td>...</td>\n",
       "      <td>121.0</td>\n",
       "      <td>[{\"iso_639_1\": \"en\", \"name\": \"English\"}]</td>\n",
       "      <td>Released</td>\n",
       "      <td>Time to rock it from the Delta to the DMZ!</td>\n",
       "      <td>Good Morning, Vietnam</td>\n",
       "      <td>7.1</td>\n",
       "      <td>642</td>\n",
       "      <td>801</td>\n",
       "      <td>[Robin Williams, Forest Whitaker, Tung Thanh T...</td>\n",
       "      <td>[Barry Levinson]</td>\n",
       "    </tr>\n",
       "    <tr>\n",
       "      <th>3183</th>\n",
       "      <td>0</td>\n",
       "      <td>[Drama]</td>\n",
       "      <td>http://www.foxsearchlight.com/thesavages</td>\n",
       "      <td>8272</td>\n",
       "      <td>[father son relationship, depression, parents ...</td>\n",
       "      <td>en</td>\n",
       "      <td>The Savages</td>\n",
       "      <td>A sister and brother face the realities of fam...</td>\n",
       "      <td>5.663889</td>\n",
       "      <td>[{\"name\": \"Fox Searchlight Pictures\", \"id\": 43...</td>\n",
       "      <td>...</td>\n",
       "      <td>114.0</td>\n",
       "      <td>[{\"iso_639_1\": \"en\", \"name\": \"English\"}]</td>\n",
       "      <td>Released</td>\n",
       "      <td>NaN</td>\n",
       "      <td>The Savages</td>\n",
       "      <td>6.8</td>\n",
       "      <td>110</td>\n",
       "      <td>8272</td>\n",
       "      <td>[Laura Linney, Philip Seymour Hoffman, Philip ...</td>\n",
       "      <td>[Tamara Jenkins]</td>\n",
       "    </tr>\n",
       "    <tr>\n",
       "      <th>3184</th>\n",
       "      <td>0</td>\n",
       "      <td>[Comedy, Romance]</td>\n",
       "      <td>NaN</td>\n",
       "      <td>24621</td>\n",
       "      <td>[woman director]</td>\n",
       "      <td>en</td>\n",
       "      <td>Chasing Papi</td>\n",
       "      <td>Playboy Thomas Fuentes has so far been able to...</td>\n",
       "      <td>1.118511</td>\n",
       "      <td>[{\"name\": \"Fox 2000 Pictures\", \"id\": 711}]</td>\n",
       "      <td>...</td>\n",
       "      <td>80.0</td>\n",
       "      <td>[{\"iso_639_1\": \"en\", \"name\": \"English\"}]</td>\n",
       "      <td>Released</td>\n",
       "      <td>Three women. Three cities. Three times the tro...</td>\n",
       "      <td>Chasing Papi</td>\n",
       "      <td>6.3</td>\n",
       "      <td>16</td>\n",
       "      <td>24621</td>\n",
       "      <td>[Roselyn Sánchez, Sofía Vergara, Jaci Velasque...</td>\n",
       "      <td>[Linda Mendoza]</td>\n",
       "    </tr>\n",
       "    <tr>\n",
       "      <th>3747</th>\n",
       "      <td>4000000</td>\n",
       "      <td>[Action, Drama, Romance]</td>\n",
       "      <td>NaN</td>\n",
       "      <td>27191</td>\n",
       "      <td>[circus, travelling circus]</td>\n",
       "      <td>en</td>\n",
       "      <td>The Greatest Show on Earth</td>\n",
       "      <td>To ensure a full profitable season, circus man...</td>\n",
       "      <td>8.988455</td>\n",
       "      <td>[{\"name\": \"Paramount Pictures\", \"id\": 4}]</td>\n",
       "      <td>...</td>\n",
       "      <td>152.0</td>\n",
       "      <td>[{\"iso_639_1\": \"en\", \"name\": \"English\"}, {\"iso...</td>\n",
       "      <td>Released</td>\n",
       "      <td>NaN</td>\n",
       "      <td>The Greatest Show on Earth</td>\n",
       "      <td>6.6</td>\n",
       "      <td>50</td>\n",
       "      <td>27191</td>\n",
       "      <td>[Betty Hutton, Cornel Wilde, Charlton Heston, ...</td>\n",
       "      <td>[Cecil B. DeMille]</td>\n",
       "    </tr>\n",
       "  </tbody>\n",
       "</table>\n",
       "<p>5 rows × 23 columns</p>\n",
       "</div>"
      ],
      "text/plain": [
       "         budget                            genres  \\\n",
       "198   130000000  [Fantasy, Action, Comedy, Crime]   \n",
       "2733   13000000              [Comedy, Drama, War]   \n",
       "3183          0                           [Drama]   \n",
       "3184          0                 [Comedy, Romance]   \n",
       "3747    4000000          [Action, Drama, Romance]   \n",
       "\n",
       "                                      homepage     id  \\\n",
       "198                       http://www.ripd.com/  49524   \n",
       "2733                                       NaN    801   \n",
       "3183  http://www.foxsearchlight.com/thesavages   8272   \n",
       "3184                                       NaN  24621   \n",
       "3747                                       NaN  27191   \n",
       "\n",
       "                                               keywords original_language  \\\n",
       "198   [gold, police operation, partner, revenge, und...                en   \n",
       "2733  [rock and roll, radio station, war crimes, ent...                en   \n",
       "3183  [father son relationship, depression, parents ...                en   \n",
       "3184                                   [woman director]                en   \n",
       "3747                        [circus, travelling circus]                en   \n",
       "\n",
       "                  original_title  \\\n",
       "198                     R.I.P.D.   \n",
       "2733       Good Morning, Vietnam   \n",
       "3183                 The Savages   \n",
       "3184                Chasing Papi   \n",
       "3747  The Greatest Show on Earth   \n",
       "\n",
       "                                               overview  popularity  \\\n",
       "198   A recently slain cop joins a team of undead po...   39.448066   \n",
       "2733  Radio funny man Adrian Cronauer is sent to Vie...   18.362333   \n",
       "3183  A sister and brother face the realities of fam...    5.663889   \n",
       "3184  Playboy Thomas Fuentes has so far been able to...    1.118511   \n",
       "3747  To ensure a full profitable season, circus man...    8.988455   \n",
       "\n",
       "                                   production_companies  ... runtime  \\\n",
       "198   [{\"name\": \"Universal Pictures\", \"id\": 33}, {\"n...  ...    96.0   \n",
       "2733  [{\"name\": \"Silver Screen Partners III\", \"id\": ...  ...   121.0   \n",
       "3183  [{\"name\": \"Fox Searchlight Pictures\", \"id\": 43...  ...   114.0   \n",
       "3184         [{\"name\": \"Fox 2000 Pictures\", \"id\": 711}]  ...    80.0   \n",
       "3747          [{\"name\": \"Paramount Pictures\", \"id\": 4}]  ...   152.0   \n",
       "\n",
       "                                       spoken_languages    status  \\\n",
       "198            [{\"iso_639_1\": \"en\", \"name\": \"English\"}]  Released   \n",
       "2733           [{\"iso_639_1\": \"en\", \"name\": \"English\"}]  Released   \n",
       "3183           [{\"iso_639_1\": \"en\", \"name\": \"English\"}]  Released   \n",
       "3184           [{\"iso_639_1\": \"en\", \"name\": \"English\"}]  Released   \n",
       "3747  [{\"iso_639_1\": \"en\", \"name\": \"English\"}, {\"iso...  Released   \n",
       "\n",
       "                                                tagline  \\\n",
       "198                     To protect and serve the living   \n",
       "2733         Time to rock it from the Delta to the DMZ!   \n",
       "3183                                                NaN   \n",
       "3184  Three women. Three cities. Three times the tro...   \n",
       "3747                                                NaN   \n",
       "\n",
       "                           title vote_average vote_count movie_id  \\\n",
       "198                     R.I.P.D.          5.4       1260    49524   \n",
       "2733       Good Morning, Vietnam          7.1        642      801   \n",
       "3183                 The Savages          6.8        110     8272   \n",
       "3184                Chasing Papi          6.3         16    24621   \n",
       "3747  The Greatest Show on Earth          6.6         50    27191   \n",
       "\n",
       "                                                   cast                crew  \n",
       "198   [Jeff Bridges, Ryan Reynolds, Kevin Bacon, Ste...  [Robert Schwentke]  \n",
       "2733  [Robin Williams, Forest Whitaker, Tung Thanh T...    [Barry Levinson]  \n",
       "3183  [Laura Linney, Philip Seymour Hoffman, Philip ...    [Tamara Jenkins]  \n",
       "3184  [Roselyn Sánchez, Sofía Vergara, Jaci Velasque...     [Linda Mendoza]  \n",
       "3747  [Betty Hutton, Cornel Wilde, Charlton Heston, ...  [Cecil B. DeMille]  \n",
       "\n",
       "[5 rows x 23 columns]"
      ]
     },
     "execution_count": 115,
     "metadata": {},
     "output_type": "execute_result"
    }
   ],
   "source": [
    "movies.sample(5) "
   ]
  },
  {
   "cell_type": "code",
   "execution_count": 116,
   "id": "70413d7a",
   "metadata": {},
   "outputs": [],
   "source": [
    "# Removing space\n",
    "def _join(x):\n",
    "    l=[]\n",
    "    for i in x:\n",
    "        l.append(i.replace(\" \",\"\"))\n",
    "    return l"
   ]
  },
  {
   "cell_type": "code",
   "execution_count": 117,
   "id": "aadbbc93",
   "metadata": {},
   "outputs": [],
   "source": [
    "movies['cast']=movies['cast'].apply(_join)"
   ]
  },
  {
   "cell_type": "code",
   "execution_count": 118,
   "id": "733100a2",
   "metadata": {},
   "outputs": [],
   "source": [
    "movies['cast']=movies['cast'].apply(lambda i:i[0:3])"
   ]
  },
  {
   "cell_type": "code",
   "execution_count": 119,
   "id": "97f0efe1",
   "metadata": {},
   "outputs": [
    {
     "data": {
      "text/plain": [
       "0        [SamWorthington, ZoeSaldana, SigourneyWeaver]\n",
       "1           [JohnnyDepp, OrlandoBloom, KeiraKnightley]\n",
       "2            [DanielCraig, ChristophWaltz, LéaSeydoux]\n",
       "3            [ChristianBale, MichaelCaine, GaryOldman]\n",
       "4          [TaylorKitsch, LynnCollins, SamanthaMorton]\n",
       "                             ...                      \n",
       "4804    [CarlosGallardo, JaimedeHoyos, PeterMarquardt]\n",
       "4805         [EdwardBurns, KerryBishé, MarshaDietlein]\n",
       "4806           [EricMabius, KristinBooth, CrystalLowe]\n",
       "4807            [DanielHenney, ElizaCoupe, BillPaxton]\n",
       "4808    [DrewBarrymore, BrianHerzlinger, CoreyFeldman]\n",
       "Name: cast, Length: 4809, dtype: object"
      ]
     },
     "execution_count": 119,
     "metadata": {},
     "output_type": "execute_result"
    }
   ],
   "source": [
    "movies['cast']"
   ]
  },
  {
   "cell_type": "code",
   "execution_count": 120,
   "id": "e2c6d506",
   "metadata": {},
   "outputs": [],
   "source": [
    "new_df = pd.DataFrame(movies,columns=['id', 'homepage', 'title', 'cast', 'crew', 'overview', 'genres', 'keywords'])"
   ]
  },
  {
   "cell_type": "code",
   "execution_count": 121,
   "id": "3261d66f",
   "metadata": {},
   "outputs": [
    {
     "data": {
      "text/html": [
       "<div>\n",
       "<style scoped>\n",
       "    .dataframe tbody tr th:only-of-type {\n",
       "        vertical-align: middle;\n",
       "    }\n",
       "\n",
       "    .dataframe tbody tr th {\n",
       "        vertical-align: top;\n",
       "    }\n",
       "\n",
       "    .dataframe thead th {\n",
       "        text-align: right;\n",
       "    }\n",
       "</style>\n",
       "<table border=\"1\" class=\"dataframe\">\n",
       "  <thead>\n",
       "    <tr style=\"text-align: right;\">\n",
       "      <th></th>\n",
       "      <th>id</th>\n",
       "      <th>homepage</th>\n",
       "      <th>title</th>\n",
       "      <th>cast</th>\n",
       "      <th>crew</th>\n",
       "      <th>overview</th>\n",
       "      <th>genres</th>\n",
       "      <th>keywords</th>\n",
       "    </tr>\n",
       "  </thead>\n",
       "  <tbody>\n",
       "    <tr>\n",
       "      <th>0</th>\n",
       "      <td>19995</td>\n",
       "      <td>http://www.avatarmovie.com/</td>\n",
       "      <td>Avatar</td>\n",
       "      <td>[SamWorthington, ZoeSaldana, SigourneyWeaver]</td>\n",
       "      <td>[James Cameron]</td>\n",
       "      <td>In the 22nd century, a paraplegic Marine is di...</td>\n",
       "      <td>[Action, Adventure, Fantasy, Science Fiction]</td>\n",
       "      <td>[culture clash, future, space war, space colon...</td>\n",
       "    </tr>\n",
       "    <tr>\n",
       "      <th>1</th>\n",
       "      <td>285</td>\n",
       "      <td>http://disney.go.com/disneypictures/pirates/</td>\n",
       "      <td>Pirates of the Caribbean: At World's End</td>\n",
       "      <td>[JohnnyDepp, OrlandoBloom, KeiraKnightley]</td>\n",
       "      <td>[Gore Verbinski]</td>\n",
       "      <td>Captain Barbossa, long believed to be dead, ha...</td>\n",
       "      <td>[Adventure, Fantasy, Action]</td>\n",
       "      <td>[ocean, drug abuse, exotic island, east india ...</td>\n",
       "    </tr>\n",
       "    <tr>\n",
       "      <th>2</th>\n",
       "      <td>206647</td>\n",
       "      <td>http://www.sonypictures.com/movies/spectre/</td>\n",
       "      <td>Spectre</td>\n",
       "      <td>[DanielCraig, ChristophWaltz, LéaSeydoux]</td>\n",
       "      <td>[Sam Mendes]</td>\n",
       "      <td>A cryptic message from Bond’s past sends him o...</td>\n",
       "      <td>[Action, Adventure, Crime]</td>\n",
       "      <td>[spy, based on novel, secret agent, sequel, mi...</td>\n",
       "    </tr>\n",
       "    <tr>\n",
       "      <th>3</th>\n",
       "      <td>49026</td>\n",
       "      <td>http://www.thedarkknightrises.com/</td>\n",
       "      <td>The Dark Knight Rises</td>\n",
       "      <td>[ChristianBale, MichaelCaine, GaryOldman]</td>\n",
       "      <td>[Christopher Nolan]</td>\n",
       "      <td>Following the death of District Attorney Harve...</td>\n",
       "      <td>[Action, Crime, Drama, Thriller]</td>\n",
       "      <td>[dc comics, crime fighter, terrorist, secret i...</td>\n",
       "    </tr>\n",
       "    <tr>\n",
       "      <th>4</th>\n",
       "      <td>49529</td>\n",
       "      <td>http://movies.disney.com/john-carter</td>\n",
       "      <td>John Carter</td>\n",
       "      <td>[TaylorKitsch, LynnCollins, SamanthaMorton]</td>\n",
       "      <td>[Andrew Stanton]</td>\n",
       "      <td>John Carter is a war-weary, former military ca...</td>\n",
       "      <td>[Action, Adventure, Science Fiction]</td>\n",
       "      <td>[based on novel, mars, medallion, space travel...</td>\n",
       "    </tr>\n",
       "  </tbody>\n",
       "</table>\n",
       "</div>"
      ],
      "text/plain": [
       "       id                                      homepage  \\\n",
       "0   19995                   http://www.avatarmovie.com/   \n",
       "1     285  http://disney.go.com/disneypictures/pirates/   \n",
       "2  206647   http://www.sonypictures.com/movies/spectre/   \n",
       "3   49026            http://www.thedarkknightrises.com/   \n",
       "4   49529          http://movies.disney.com/john-carter   \n",
       "\n",
       "                                      title  \\\n",
       "0                                    Avatar   \n",
       "1  Pirates of the Caribbean: At World's End   \n",
       "2                                   Spectre   \n",
       "3                     The Dark Knight Rises   \n",
       "4                               John Carter   \n",
       "\n",
       "                                            cast                 crew  \\\n",
       "0  [SamWorthington, ZoeSaldana, SigourneyWeaver]      [James Cameron]   \n",
       "1     [JohnnyDepp, OrlandoBloom, KeiraKnightley]     [Gore Verbinski]   \n",
       "2      [DanielCraig, ChristophWaltz, LéaSeydoux]         [Sam Mendes]   \n",
       "3      [ChristianBale, MichaelCaine, GaryOldman]  [Christopher Nolan]   \n",
       "4    [TaylorKitsch, LynnCollins, SamanthaMorton]     [Andrew Stanton]   \n",
       "\n",
       "                                            overview  \\\n",
       "0  In the 22nd century, a paraplegic Marine is di...   \n",
       "1  Captain Barbossa, long believed to be dead, ha...   \n",
       "2  A cryptic message from Bond’s past sends him o...   \n",
       "3  Following the death of District Attorney Harve...   \n",
       "4  John Carter is a war-weary, former military ca...   \n",
       "\n",
       "                                          genres  \\\n",
       "0  [Action, Adventure, Fantasy, Science Fiction]   \n",
       "1                   [Adventure, Fantasy, Action]   \n",
       "2                     [Action, Adventure, Crime]   \n",
       "3               [Action, Crime, Drama, Thriller]   \n",
       "4           [Action, Adventure, Science Fiction]   \n",
       "\n",
       "                                            keywords  \n",
       "0  [culture clash, future, space war, space colon...  \n",
       "1  [ocean, drug abuse, exotic island, east india ...  \n",
       "2  [spy, based on novel, secret agent, sequel, mi...  \n",
       "3  [dc comics, crime fighter, terrorist, secret i...  \n",
       "4  [based on novel, mars, medallion, space travel...  "
      ]
     },
     "execution_count": 121,
     "metadata": {},
     "output_type": "execute_result"
    }
   ],
   "source": [
    "new_df.head(5)"
   ]
  },
  {
   "cell_type": "code",
   "execution_count": 122,
   "id": "36438f5a",
   "metadata": {},
   "outputs": [],
   "source": [
    "new_df['crew']=new_df['crew'].apply(_join)"
   ]
  },
  {
   "cell_type": "code",
   "execution_count": 123,
   "id": "eba56efe",
   "metadata": {},
   "outputs": [
    {
     "data": {
      "text/html": [
       "<div>\n",
       "<style scoped>\n",
       "    .dataframe tbody tr th:only-of-type {\n",
       "        vertical-align: middle;\n",
       "    }\n",
       "\n",
       "    .dataframe tbody tr th {\n",
       "        vertical-align: top;\n",
       "    }\n",
       "\n",
       "    .dataframe thead th {\n",
       "        text-align: right;\n",
       "    }\n",
       "</style>\n",
       "<table border=\"1\" class=\"dataframe\">\n",
       "  <thead>\n",
       "    <tr style=\"text-align: right;\">\n",
       "      <th></th>\n",
       "      <th>id</th>\n",
       "      <th>homepage</th>\n",
       "      <th>title</th>\n",
       "      <th>cast</th>\n",
       "      <th>crew</th>\n",
       "      <th>overview</th>\n",
       "      <th>genres</th>\n",
       "      <th>keywords</th>\n",
       "    </tr>\n",
       "  </thead>\n",
       "  <tbody>\n",
       "    <tr>\n",
       "      <th>0</th>\n",
       "      <td>19995</td>\n",
       "      <td>http://www.avatarmovie.com/</td>\n",
       "      <td>Avatar</td>\n",
       "      <td>[SamWorthington, ZoeSaldana, SigourneyWeaver]</td>\n",
       "      <td>[JamesCameron]</td>\n",
       "      <td>In the 22nd century, a paraplegic Marine is di...</td>\n",
       "      <td>[Action, Adventure, Fantasy, Science Fiction]</td>\n",
       "      <td>[culture clash, future, space war, space colon...</td>\n",
       "    </tr>\n",
       "    <tr>\n",
       "      <th>1</th>\n",
       "      <td>285</td>\n",
       "      <td>http://disney.go.com/disneypictures/pirates/</td>\n",
       "      <td>Pirates of the Caribbean: At World's End</td>\n",
       "      <td>[JohnnyDepp, OrlandoBloom, KeiraKnightley]</td>\n",
       "      <td>[GoreVerbinski]</td>\n",
       "      <td>Captain Barbossa, long believed to be dead, ha...</td>\n",
       "      <td>[Adventure, Fantasy, Action]</td>\n",
       "      <td>[ocean, drug abuse, exotic island, east india ...</td>\n",
       "    </tr>\n",
       "    <tr>\n",
       "      <th>2</th>\n",
       "      <td>206647</td>\n",
       "      <td>http://www.sonypictures.com/movies/spectre/</td>\n",
       "      <td>Spectre</td>\n",
       "      <td>[DanielCraig, ChristophWaltz, LéaSeydoux]</td>\n",
       "      <td>[SamMendes]</td>\n",
       "      <td>A cryptic message from Bond’s past sends him o...</td>\n",
       "      <td>[Action, Adventure, Crime]</td>\n",
       "      <td>[spy, based on novel, secret agent, sequel, mi...</td>\n",
       "    </tr>\n",
       "    <tr>\n",
       "      <th>3</th>\n",
       "      <td>49026</td>\n",
       "      <td>http://www.thedarkknightrises.com/</td>\n",
       "      <td>The Dark Knight Rises</td>\n",
       "      <td>[ChristianBale, MichaelCaine, GaryOldman]</td>\n",
       "      <td>[ChristopherNolan]</td>\n",
       "      <td>Following the death of District Attorney Harve...</td>\n",
       "      <td>[Action, Crime, Drama, Thriller]</td>\n",
       "      <td>[dc comics, crime fighter, terrorist, secret i...</td>\n",
       "    </tr>\n",
       "    <tr>\n",
       "      <th>4</th>\n",
       "      <td>49529</td>\n",
       "      <td>http://movies.disney.com/john-carter</td>\n",
       "      <td>John Carter</td>\n",
       "      <td>[TaylorKitsch, LynnCollins, SamanthaMorton]</td>\n",
       "      <td>[AndrewStanton]</td>\n",
       "      <td>John Carter is a war-weary, former military ca...</td>\n",
       "      <td>[Action, Adventure, Science Fiction]</td>\n",
       "      <td>[based on novel, mars, medallion, space travel...</td>\n",
       "    </tr>\n",
       "  </tbody>\n",
       "</table>\n",
       "</div>"
      ],
      "text/plain": [
       "       id                                      homepage  \\\n",
       "0   19995                   http://www.avatarmovie.com/   \n",
       "1     285  http://disney.go.com/disneypictures/pirates/   \n",
       "2  206647   http://www.sonypictures.com/movies/spectre/   \n",
       "3   49026            http://www.thedarkknightrises.com/   \n",
       "4   49529          http://movies.disney.com/john-carter   \n",
       "\n",
       "                                      title  \\\n",
       "0                                    Avatar   \n",
       "1  Pirates of the Caribbean: At World's End   \n",
       "2                                   Spectre   \n",
       "3                     The Dark Knight Rises   \n",
       "4                               John Carter   \n",
       "\n",
       "                                            cast                crew  \\\n",
       "0  [SamWorthington, ZoeSaldana, SigourneyWeaver]      [JamesCameron]   \n",
       "1     [JohnnyDepp, OrlandoBloom, KeiraKnightley]     [GoreVerbinski]   \n",
       "2      [DanielCraig, ChristophWaltz, LéaSeydoux]         [SamMendes]   \n",
       "3      [ChristianBale, MichaelCaine, GaryOldman]  [ChristopherNolan]   \n",
       "4    [TaylorKitsch, LynnCollins, SamanthaMorton]     [AndrewStanton]   \n",
       "\n",
       "                                            overview  \\\n",
       "0  In the 22nd century, a paraplegic Marine is di...   \n",
       "1  Captain Barbossa, long believed to be dead, ha...   \n",
       "2  A cryptic message from Bond’s past sends him o...   \n",
       "3  Following the death of District Attorney Harve...   \n",
       "4  John Carter is a war-weary, former military ca...   \n",
       "\n",
       "                                          genres  \\\n",
       "0  [Action, Adventure, Fantasy, Science Fiction]   \n",
       "1                   [Adventure, Fantasy, Action]   \n",
       "2                     [Action, Adventure, Crime]   \n",
       "3               [Action, Crime, Drama, Thriller]   \n",
       "4           [Action, Adventure, Science Fiction]   \n",
       "\n",
       "                                            keywords  \n",
       "0  [culture clash, future, space war, space colon...  \n",
       "1  [ocean, drug abuse, exotic island, east india ...  \n",
       "2  [spy, based on novel, secret agent, sequel, mi...  \n",
       "3  [dc comics, crime fighter, terrorist, secret i...  \n",
       "4  [based on novel, mars, medallion, space travel...  "
      ]
     },
     "execution_count": 123,
     "metadata": {},
     "output_type": "execute_result"
    }
   ],
   "source": [
    "new_df.head()"
   ]
  },
  {
   "cell_type": "code",
   "execution_count": 124,
   "id": "abe68a7a",
   "metadata": {},
   "outputs": [
    {
     "data": {
      "text/plain": [
       "id             0\n",
       "homepage    3096\n",
       "title          0\n",
       "cast           0\n",
       "crew           0\n",
       "overview       3\n",
       "genres         0\n",
       "keywords       0\n",
       "dtype: int64"
      ]
     },
     "execution_count": 124,
     "metadata": {},
     "output_type": "execute_result"
    }
   ],
   "source": [
    "new_df.isna().sum()"
   ]
  },
  {
   "cell_type": "code",
   "execution_count": 125,
   "id": "641d2ddd",
   "metadata": {},
   "outputs": [],
   "source": [
    "new_df['homepage']=new_df['homepage'].fillna(0)"
   ]
  },
  {
   "cell_type": "code",
   "execution_count": 126,
   "id": "c7713d86",
   "metadata": {},
   "outputs": [
    {
     "name": "stderr",
     "output_type": "stream",
     "text": [
      "C:\\Users\\user\\AppData\\Local\\Temp\\ipykernel_15528\\1947524128.py:10: SettingWithCopyWarning: \n",
      "A value is trying to be set on a copy of a slice from a DataFrame\n",
      "\n",
      "See the caveats in the documentation: https://pandas.pydata.org/pandas-docs/stable/user_guide/indexing.html#returning-a-view-versus-a-copy\n",
      "  new_df['urls'][i]=new_df['homepage'][i]\n"
     ]
    }
   ],
   "source": [
    "url = list(enumerate(new_df['homepage']))\n",
    "new_df['urls']=0\n",
    "for i in range(len(url)):\n",
    "    if new_df['homepage'][i]==0:\n",
    "        \n",
    "        x = (\"{}/{}\".format('https://www.', str(\"\".join(list(new_df['title'][url[i][0]].split())))))\n",
    "        \n",
    "        new_df['urls'][i]=x\n",
    "    else:\n",
    "        new_df['urls'][i]=new_df['homepage'][i]"
   ]
  },
  {
   "cell_type": "code",
   "execution_count": 127,
   "id": "49da81e7",
   "metadata": {},
   "outputs": [
    {
     "data": {
      "text/plain": [
       "0                             http://www.avatarmovie.com/\n",
       "1            http://disney.go.com/disneypictures/pirates/\n",
       "2             http://www.sonypictures.com/movies/spectre/\n",
       "3                      http://www.thedarkknightrises.com/\n",
       "4                    http://movies.disney.com/john-carter\n",
       "                              ...                        \n",
       "4804                              https://www./ElMariachi\n",
       "4805                               https://www./Newlyweds\n",
       "4806    http://www.hallmarkchannel.com/signedsealeddel...\n",
       "4807                          http://shanghaicalling.com/\n",
       "4808                          https://www./MyDatewithDrew\n",
       "Name: urls, Length: 4809, dtype: object"
      ]
     },
     "execution_count": 127,
     "metadata": {},
     "output_type": "execute_result"
    }
   ],
   "source": [
    "new_df['urls']"
   ]
  },
  {
   "cell_type": "code",
   "execution_count": 128,
   "id": "65c163b5",
   "metadata": {},
   "outputs": [
    {
     "data": {
      "text/html": [
       "<div>\n",
       "<style scoped>\n",
       "    .dataframe tbody tr th:only-of-type {\n",
       "        vertical-align: middle;\n",
       "    }\n",
       "\n",
       "    .dataframe tbody tr th {\n",
       "        vertical-align: top;\n",
       "    }\n",
       "\n",
       "    .dataframe thead th {\n",
       "        text-align: right;\n",
       "    }\n",
       "</style>\n",
       "<table border=\"1\" class=\"dataframe\">\n",
       "  <thead>\n",
       "    <tr style=\"text-align: right;\">\n",
       "      <th></th>\n",
       "      <th>id</th>\n",
       "      <th>homepage</th>\n",
       "      <th>title</th>\n",
       "      <th>cast</th>\n",
       "      <th>crew</th>\n",
       "      <th>overview</th>\n",
       "      <th>genres</th>\n",
       "      <th>keywords</th>\n",
       "      <th>urls</th>\n",
       "    </tr>\n",
       "  </thead>\n",
       "  <tbody>\n",
       "    <tr>\n",
       "      <th>4334</th>\n",
       "      <td>202604</td>\n",
       "      <td>0</td>\n",
       "      <td>The Vatican Exorcisms</td>\n",
       "      <td>[JoeMarino]</td>\n",
       "      <td>[JoeMarino]</td>\n",
       "      <td>Documentary following US film-maker Joe Marino...</td>\n",
       "      <td>[Horror, Documentary, Mystery]</td>\n",
       "      <td>[exorcism]</td>\n",
       "      <td>https://www./TheVaticanExorcisms</td>\n",
       "    </tr>\n",
       "    <tr>\n",
       "      <th>3397</th>\n",
       "      <td>1956</td>\n",
       "      <td>0</td>\n",
       "      <td>Gerry</td>\n",
       "      <td>[CaseyAffleck, MattDamon]</td>\n",
       "      <td>[GusVanSant]</td>\n",
       "      <td>Two friends named Gerry become lost in the des...</td>\n",
       "      <td>[Mystery, Drama, Adventure]</td>\n",
       "      <td>[desperation, highway, wilderness, getting los...</td>\n",
       "      <td>https://www./Gerry</td>\n",
       "    </tr>\n",
       "    <tr>\n",
       "      <th>947</th>\n",
       "      <td>588</td>\n",
       "      <td>http://www.sonypictures.com/homevideo/silenthill/</td>\n",
       "      <td>Silent Hill</td>\n",
       "      <td>[RadhaMitchell, SeanBean, LaurieHolden]</td>\n",
       "      <td>[ChristopheGans]</td>\n",
       "      <td>The eerie and deserted ghost town of Silent Hi...</td>\n",
       "      <td>[Horror, Mystery]</td>\n",
       "      <td>[monster, mother role, burning of witches, fog...</td>\n",
       "      <td>http://www.sonypictures.com/homevideo/silenthill/</td>\n",
       "    </tr>\n",
       "    <tr>\n",
       "      <th>71</th>\n",
       "      <td>1735</td>\n",
       "      <td>http://www.themummy.com/</td>\n",
       "      <td>The Mummy: Tomb of the Dragon Emperor</td>\n",
       "      <td>[BrendanFraser, JetLi, JohnHannah]</td>\n",
       "      <td>[RobCohen]</td>\n",
       "      <td>Archaeologist Rick O'Connell travels to China,...</td>\n",
       "      <td>[Adventure, Action, Fantasy]</td>\n",
       "      <td>[]</td>\n",
       "      <td>http://www.themummy.com/</td>\n",
       "    </tr>\n",
       "    <tr>\n",
       "      <th>3735</th>\n",
       "      <td>1088</td>\n",
       "      <td>http://www.whaleriderthemovie.com/</td>\n",
       "      <td>Whale Rider</td>\n",
       "      <td>[KeishaCastle-Hughes, RawiriParatene, VickyHau...</td>\n",
       "      <td>[NikiCaro]</td>\n",
       "      <td>On the east coast of New Zealand, the Whangara...</td>\n",
       "      <td>[Drama, Family]</td>\n",
       "      <td>[ocean, loss of mother, tradition, loss of bro...</td>\n",
       "      <td>http://www.whaleriderthemovie.com/</td>\n",
       "    </tr>\n",
       "  </tbody>\n",
       "</table>\n",
       "</div>"
      ],
      "text/plain": [
       "          id                                           homepage  \\\n",
       "4334  202604                                                  0   \n",
       "3397    1956                                                  0   \n",
       "947      588  http://www.sonypictures.com/homevideo/silenthill/   \n",
       "71      1735                           http://www.themummy.com/   \n",
       "3735    1088                 http://www.whaleriderthemovie.com/   \n",
       "\n",
       "                                      title  \\\n",
       "4334                  The Vatican Exorcisms   \n",
       "3397                                  Gerry   \n",
       "947                             Silent Hill   \n",
       "71    The Mummy: Tomb of the Dragon Emperor   \n",
       "3735                            Whale Rider   \n",
       "\n",
       "                                                   cast              crew  \\\n",
       "4334                                        [JoeMarino]       [JoeMarino]   \n",
       "3397                          [CaseyAffleck, MattDamon]      [GusVanSant]   \n",
       "947             [RadhaMitchell, SeanBean, LaurieHolden]  [ChristopheGans]   \n",
       "71                   [BrendanFraser, JetLi, JohnHannah]        [RobCohen]   \n",
       "3735  [KeishaCastle-Hughes, RawiriParatene, VickyHau...        [NikiCaro]   \n",
       "\n",
       "                                               overview  \\\n",
       "4334  Documentary following US film-maker Joe Marino...   \n",
       "3397  Two friends named Gerry become lost in the des...   \n",
       "947   The eerie and deserted ghost town of Silent Hi...   \n",
       "71    Archaeologist Rick O'Connell travels to China,...   \n",
       "3735  On the east coast of New Zealand, the Whangara...   \n",
       "\n",
       "                              genres  \\\n",
       "4334  [Horror, Documentary, Mystery]   \n",
       "3397     [Mystery, Drama, Adventure]   \n",
       "947                [Horror, Mystery]   \n",
       "71      [Adventure, Action, Fantasy]   \n",
       "3735                 [Drama, Family]   \n",
       "\n",
       "                                               keywords  \\\n",
       "4334                                         [exorcism]   \n",
       "3397  [desperation, highway, wilderness, getting los...   \n",
       "947   [monster, mother role, burning of witches, fog...   \n",
       "71                                                   []   \n",
       "3735  [ocean, loss of mother, tradition, loss of bro...   \n",
       "\n",
       "                                                   urls  \n",
       "4334                   https://www./TheVaticanExorcisms  \n",
       "3397                                 https://www./Gerry  \n",
       "947   http://www.sonypictures.com/homevideo/silenthill/  \n",
       "71                             http://www.themummy.com/  \n",
       "3735                 http://www.whaleriderthemovie.com/  "
      ]
     },
     "execution_count": 128,
     "metadata": {},
     "output_type": "execute_result"
    }
   ],
   "source": [
    "new_df.sample(5)"
   ]
  },
  {
   "cell_type": "code",
   "execution_count": 129,
   "id": "03a0d140",
   "metadata": {},
   "outputs": [],
   "source": [
    "def spliting(text):\n",
    "    text =str(text).split()\n",
    "    return text"
   ]
  },
  {
   "cell_type": "code",
   "execution_count": 130,
   "id": "07527de3",
   "metadata": {},
   "outputs": [],
   "source": [
    "new_df['overview']=new_df['overview'].apply(spliting)"
   ]
  },
  {
   "cell_type": "code",
   "execution_count": 131,
   "id": "74d02e65",
   "metadata": {},
   "outputs": [],
   "source": [
    "new_df['all_tags']=new_df['overview']+new_df['genres']+new_df['keywords']+new_df['cast']+new_df['crew']"
   ]
  },
  {
   "cell_type": "code",
   "execution_count": 132,
   "id": "5a638628",
   "metadata": {},
   "outputs": [],
   "source": [
    "new_df.drop(columns=['overview','genres','keywords','cast','crew','homepage'], inplace=True)"
   ]
  },
  {
   "cell_type": "code",
   "execution_count": 133,
   "id": "64628833",
   "metadata": {},
   "outputs": [
    {
     "data": {
      "text/html": [
       "<div>\n",
       "<style scoped>\n",
       "    .dataframe tbody tr th:only-of-type {\n",
       "        vertical-align: middle;\n",
       "    }\n",
       "\n",
       "    .dataframe tbody tr th {\n",
       "        vertical-align: top;\n",
       "    }\n",
       "\n",
       "    .dataframe thead th {\n",
       "        text-align: right;\n",
       "    }\n",
       "</style>\n",
       "<table border=\"1\" class=\"dataframe\">\n",
       "  <thead>\n",
       "    <tr style=\"text-align: right;\">\n",
       "      <th></th>\n",
       "      <th>id</th>\n",
       "      <th>title</th>\n",
       "      <th>urls</th>\n",
       "      <th>all_tags</th>\n",
       "    </tr>\n",
       "  </thead>\n",
       "  <tbody>\n",
       "    <tr>\n",
       "      <th>0</th>\n",
       "      <td>19995</td>\n",
       "      <td>Avatar</td>\n",
       "      <td>http://www.avatarmovie.com/</td>\n",
       "      <td>[In, the, 22nd, century,, a, paraplegic, Marin...</td>\n",
       "    </tr>\n",
       "    <tr>\n",
       "      <th>1</th>\n",
       "      <td>285</td>\n",
       "      <td>Pirates of the Caribbean: At World's End</td>\n",
       "      <td>http://disney.go.com/disneypictures/pirates/</td>\n",
       "      <td>[Captain, Barbossa,, long, believed, to, be, d...</td>\n",
       "    </tr>\n",
       "    <tr>\n",
       "      <th>2</th>\n",
       "      <td>206647</td>\n",
       "      <td>Spectre</td>\n",
       "      <td>http://www.sonypictures.com/movies/spectre/</td>\n",
       "      <td>[A, cryptic, message, from, Bond’s, past, send...</td>\n",
       "    </tr>\n",
       "    <tr>\n",
       "      <th>3</th>\n",
       "      <td>49026</td>\n",
       "      <td>The Dark Knight Rises</td>\n",
       "      <td>http://www.thedarkknightrises.com/</td>\n",
       "      <td>[Following, the, death, of, District, Attorney...</td>\n",
       "    </tr>\n",
       "    <tr>\n",
       "      <th>4</th>\n",
       "      <td>49529</td>\n",
       "      <td>John Carter</td>\n",
       "      <td>http://movies.disney.com/john-carter</td>\n",
       "      <td>[John, Carter, is, a, war-weary,, former, mili...</td>\n",
       "    </tr>\n",
       "  </tbody>\n",
       "</table>\n",
       "</div>"
      ],
      "text/plain": [
       "       id                                     title  \\\n",
       "0   19995                                    Avatar   \n",
       "1     285  Pirates of the Caribbean: At World's End   \n",
       "2  206647                                   Spectre   \n",
       "3   49026                     The Dark Knight Rises   \n",
       "4   49529                               John Carter   \n",
       "\n",
       "                                           urls  \\\n",
       "0                   http://www.avatarmovie.com/   \n",
       "1  http://disney.go.com/disneypictures/pirates/   \n",
       "2   http://www.sonypictures.com/movies/spectre/   \n",
       "3            http://www.thedarkknightrises.com/   \n",
       "4          http://movies.disney.com/john-carter   \n",
       "\n",
       "                                            all_tags  \n",
       "0  [In, the, 22nd, century,, a, paraplegic, Marin...  \n",
       "1  [Captain, Barbossa,, long, believed, to, be, d...  \n",
       "2  [A, cryptic, message, from, Bond’s, past, send...  \n",
       "3  [Following, the, death, of, District, Attorney...  \n",
       "4  [John, Carter, is, a, war-weary,, former, mili...  "
      ]
     },
     "execution_count": 133,
     "metadata": {},
     "output_type": "execute_result"
    }
   ],
   "source": [
    "new_df.head()"
   ]
  },
  {
   "cell_type": "code",
   "execution_count": 134,
   "id": "df201fce",
   "metadata": {},
   "outputs": [],
   "source": [
    "# convert tags to lower case\n",
    "\n",
    "def convert_lower(text):\n",
    "    l=[]\n",
    "    for item in text:\n",
    "        l.append(item.lower())\n",
    "    return l"
   ]
  },
  {
   "cell_type": "code",
   "execution_count": 135,
   "id": "28776e3d",
   "metadata": {},
   "outputs": [],
   "source": [
    "new_df['all_tags']=new_df['all_tags'].apply(convert_lower)"
   ]
  },
  {
   "cell_type": "code",
   "execution_count": 136,
   "id": "cb99c640",
   "metadata": {},
   "outputs": [
    {
     "data": {
      "text/html": [
       "<div>\n",
       "<style scoped>\n",
       "    .dataframe tbody tr th:only-of-type {\n",
       "        vertical-align: middle;\n",
       "    }\n",
       "\n",
       "    .dataframe tbody tr th {\n",
       "        vertical-align: top;\n",
       "    }\n",
       "\n",
       "    .dataframe thead th {\n",
       "        text-align: right;\n",
       "    }\n",
       "</style>\n",
       "<table border=\"1\" class=\"dataframe\">\n",
       "  <thead>\n",
       "    <tr style=\"text-align: right;\">\n",
       "      <th></th>\n",
       "      <th>id</th>\n",
       "      <th>title</th>\n",
       "      <th>urls</th>\n",
       "      <th>all_tags</th>\n",
       "    </tr>\n",
       "  </thead>\n",
       "  <tbody>\n",
       "    <tr>\n",
       "      <th>0</th>\n",
       "      <td>19995</td>\n",
       "      <td>Avatar</td>\n",
       "      <td>http://www.avatarmovie.com/</td>\n",
       "      <td>[in, the, 22nd, century,, a, paraplegic, marin...</td>\n",
       "    </tr>\n",
       "    <tr>\n",
       "      <th>1</th>\n",
       "      <td>285</td>\n",
       "      <td>Pirates of the Caribbean: At World's End</td>\n",
       "      <td>http://disney.go.com/disneypictures/pirates/</td>\n",
       "      <td>[captain, barbossa,, long, believed, to, be, d...</td>\n",
       "    </tr>\n",
       "    <tr>\n",
       "      <th>2</th>\n",
       "      <td>206647</td>\n",
       "      <td>Spectre</td>\n",
       "      <td>http://www.sonypictures.com/movies/spectre/</td>\n",
       "      <td>[a, cryptic, message, from, bond’s, past, send...</td>\n",
       "    </tr>\n",
       "    <tr>\n",
       "      <th>3</th>\n",
       "      <td>49026</td>\n",
       "      <td>The Dark Knight Rises</td>\n",
       "      <td>http://www.thedarkknightrises.com/</td>\n",
       "      <td>[following, the, death, of, district, attorney...</td>\n",
       "    </tr>\n",
       "    <tr>\n",
       "      <th>4</th>\n",
       "      <td>49529</td>\n",
       "      <td>John Carter</td>\n",
       "      <td>http://movies.disney.com/john-carter</td>\n",
       "      <td>[john, carter, is, a, war-weary,, former, mili...</td>\n",
       "    </tr>\n",
       "  </tbody>\n",
       "</table>\n",
       "</div>"
      ],
      "text/plain": [
       "       id                                     title  \\\n",
       "0   19995                                    Avatar   \n",
       "1     285  Pirates of the Caribbean: At World's End   \n",
       "2  206647                                   Spectre   \n",
       "3   49026                     The Dark Knight Rises   \n",
       "4   49529                               John Carter   \n",
       "\n",
       "                                           urls  \\\n",
       "0                   http://www.avatarmovie.com/   \n",
       "1  http://disney.go.com/disneypictures/pirates/   \n",
       "2   http://www.sonypictures.com/movies/spectre/   \n",
       "3            http://www.thedarkknightrises.com/   \n",
       "4          http://movies.disney.com/john-carter   \n",
       "\n",
       "                                            all_tags  \n",
       "0  [in, the, 22nd, century,, a, paraplegic, marin...  \n",
       "1  [captain, barbossa,, long, believed, to, be, d...  \n",
       "2  [a, cryptic, message, from, bond’s, past, send...  \n",
       "3  [following, the, death, of, district, attorney...  \n",
       "4  [john, carter, is, a, war-weary,, former, mili...  "
      ]
     },
     "execution_count": 136,
     "metadata": {},
     "output_type": "execute_result"
    }
   ],
   "source": [
    "new_df.head()"
   ]
  },
  {
   "cell_type": "code",
   "execution_count": 137,
   "id": "88729a90",
   "metadata": {},
   "outputs": [
    {
     "name": "stdout",
     "output_type": "stream",
     "text": [
      "Defaulting to user installation because normal site-packages is not writeable\n",
      "Requirement already satisfied: nltk in c:\\programdata\\anaconda3\\lib\\site-packages (3.7)\n",
      "Requirement already satisfied: tqdm in c:\\programdata\\anaconda3\\lib\\site-packages (from nltk) (4.64.0)\n",
      "Requirement already satisfied: regex>=2021.8.3 in c:\\programdata\\anaconda3\\lib\\site-packages (from nltk) (2022.3.15)\n",
      "Requirement already satisfied: click in c:\\programdata\\anaconda3\\lib\\site-packages (from nltk) (8.0.4)\n",
      "Requirement already satisfied: joblib in c:\\programdata\\anaconda3\\lib\\site-packages (from nltk) (1.1.0)\n",
      "Requirement already satisfied: colorama in c:\\programdata\\anaconda3\\lib\\site-packages (from click->nltk) (0.4.4)\n",
      "Note: you may need to restart the kernel to use updated packages.\n"
     ]
    }
   ],
   "source": [
    "pip install nltk"
   ]
  },
  {
   "cell_type": "code",
   "execution_count": 138,
   "id": "3c23dd11",
   "metadata": {},
   "outputs": [],
   "source": [
    "import nltk\n",
    "from nltk.stem.porter import PorterStemmer\n",
    "ps = PorterStemmer()\n",
    "def steming(text):\n",
    "    l=[]\n",
    "    for i in text:\n",
    "        l.append(ps.stem(i))\n",
    "    return l"
   ]
  },
  {
   "cell_type": "code",
   "execution_count": 139,
   "id": "8bf4636a",
   "metadata": {},
   "outputs": [],
   "source": [
    "new_df['all_tags']=new_df['all_tags'].apply(steming)"
   ]
  },
  {
   "cell_type": "code",
   "execution_count": 140,
   "id": "b9024bb9",
   "metadata": {},
   "outputs": [
    {
     "data": {
      "text/html": [
       "<div>\n",
       "<style scoped>\n",
       "    .dataframe tbody tr th:only-of-type {\n",
       "        vertical-align: middle;\n",
       "    }\n",
       "\n",
       "    .dataframe tbody tr th {\n",
       "        vertical-align: top;\n",
       "    }\n",
       "\n",
       "    .dataframe thead th {\n",
       "        text-align: right;\n",
       "    }\n",
       "</style>\n",
       "<table border=\"1\" class=\"dataframe\">\n",
       "  <thead>\n",
       "    <tr style=\"text-align: right;\">\n",
       "      <th></th>\n",
       "      <th>id</th>\n",
       "      <th>title</th>\n",
       "      <th>urls</th>\n",
       "      <th>all_tags</th>\n",
       "    </tr>\n",
       "  </thead>\n",
       "  <tbody>\n",
       "    <tr>\n",
       "      <th>1053</th>\n",
       "      <td>4379</td>\n",
       "      <td>Monster-in-Law</td>\n",
       "      <td>https://www./Monster-in-Law</td>\n",
       "      <td>[offic, temp, charlott, cantilini, think, she'...</td>\n",
       "    </tr>\n",
       "    <tr>\n",
       "      <th>3008</th>\n",
       "      <td>12182</td>\n",
       "      <td>Nick and Norah's Infinite Playlist</td>\n",
       "      <td>https://www./NickandNorah'sInfinitePlaylist</td>\n",
       "      <td>[nick, cannot, stop, obsess, over, hi, ex-girl...</td>\n",
       "    </tr>\n",
       "    <tr>\n",
       "      <th>3359</th>\n",
       "      <td>24977</td>\n",
       "      <td>Michael Jordan to the Max</td>\n",
       "      <td>https://www./MichaelJordantotheMax</td>\n",
       "      <td>[thi, documentari, showcas, basketbal, player,...</td>\n",
       "    </tr>\n",
       "    <tr>\n",
       "      <th>1796</th>\n",
       "      <td>134</td>\n",
       "      <td>O Brother, Where Art Thou?</td>\n",
       "      <td>https://www./OBrother,WhereArtThou?</td>\n",
       "      <td>[in, the, deep, south, dure, the, 1930s,, thre...</td>\n",
       "    </tr>\n",
       "    <tr>\n",
       "      <th>504</th>\n",
       "      <td>328111</td>\n",
       "      <td>The Secret Life of Pets</td>\n",
       "      <td>http://www.thesecretlifeofpets.com/</td>\n",
       "      <td>[the, quiet, life, of, a, terrier, name, max, ...</td>\n",
       "    </tr>\n",
       "  </tbody>\n",
       "</table>\n",
       "</div>"
      ],
      "text/plain": [
       "          id                               title  \\\n",
       "1053    4379                      Monster-in-Law   \n",
       "3008   12182  Nick and Norah's Infinite Playlist   \n",
       "3359   24977           Michael Jordan to the Max   \n",
       "1796     134          O Brother, Where Art Thou?   \n",
       "504   328111             The Secret Life of Pets   \n",
       "\n",
       "                                             urls  \\\n",
       "1053                  https://www./Monster-in-Law   \n",
       "3008  https://www./NickandNorah'sInfinitePlaylist   \n",
       "3359           https://www./MichaelJordantotheMax   \n",
       "1796          https://www./OBrother,WhereArtThou?   \n",
       "504           http://www.thesecretlifeofpets.com/   \n",
       "\n",
       "                                               all_tags  \n",
       "1053  [offic, temp, charlott, cantilini, think, she'...  \n",
       "3008  [nick, cannot, stop, obsess, over, hi, ex-girl...  \n",
       "3359  [thi, documentari, showcas, basketbal, player,...  \n",
       "1796  [in, the, deep, south, dure, the, 1930s,, thre...  \n",
       "504   [the, quiet, life, of, a, terrier, name, max, ...  "
      ]
     },
     "execution_count": 140,
     "metadata": {},
     "output_type": "execute_result"
    }
   ],
   "source": [
    "new_df.sample(5)"
   ]
  },
  {
   "cell_type": "code",
   "execution_count": 141,
   "id": "4498091d",
   "metadata": {},
   "outputs": [],
   "source": [
    "new_df['all_tags']=new_df['all_tags'].apply(_join)"
   ]
  },
  {
   "cell_type": "code",
   "execution_count": 142,
   "id": "a302fd85",
   "metadata": {},
   "outputs": [],
   "source": [
    "new_df['all_tags'] =new_df['all_tags'].apply(lambda x: \" \".join(x))"
   ]
  },
  {
   "cell_type": "code",
   "execution_count": 143,
   "id": "75c624cc",
   "metadata": {},
   "outputs": [],
   "source": [
    "# Vectorization\n",
    "\n",
    "from sklearn.feature_extraction.text import CountVectorizer\n",
    "cv= CountVectorizer(stop_words='english')"
   ]
  },
  {
   "cell_type": "code",
   "execution_count": 144,
   "id": "2aeaed7c",
   "metadata": {},
   "outputs": [
    {
     "data": {
      "text/plain": [
       "array([[0, 0, 0, ..., 0, 0, 0],\n",
       "       [0, 0, 0, ..., 0, 0, 0],\n",
       "       [0, 0, 0, ..., 0, 0, 0],\n",
       "       ...,\n",
       "       [0, 0, 0, ..., 0, 0, 0],\n",
       "       [0, 0, 0, ..., 0, 0, 0],\n",
       "       [0, 0, 0, ..., 0, 0, 0]], dtype=int64)"
      ]
     },
     "execution_count": 144,
     "metadata": {},
     "output_type": "execute_result"
    }
   ],
   "source": [
    "data = cv.fit_transform(new_df['all_tags']).toarray()\n",
    "data"
   ]
  },
  {
   "cell_type": "code",
   "execution_count": 145,
   "id": "11120826",
   "metadata": {},
   "outputs": [
    {
     "data": {
      "text/plain": [
       "array([[1.        , 0.06776309, 0.06862635, ..., 0.03571429, 0.        ,\n",
       "        0.        ],\n",
       "       [0.06776309, 1.        , 0.05063697, ..., 0.01976424, 0.        ,\n",
       "        0.0209427 ],\n",
       "       [0.06862635, 0.05063697, 1.        , ..., 0.02001602, 0.        ,\n",
       "        0.        ],\n",
       "       ...,\n",
       "       [0.03571429, 0.01976424, 0.02001602, ..., 1.        , 0.03311331,\n",
       "        0.03311331],\n",
       "       [0.        , 0.        , 0.        , ..., 0.03311331, 1.        ,\n",
       "        0.07017544],\n",
       "       [0.        , 0.0209427 , 0.        , ..., 0.03311331, 0.07017544,\n",
       "        1.        ]])"
      ]
     },
     "execution_count": 145,
     "metadata": {},
     "output_type": "execute_result"
    }
   ],
   "source": [
    "from sklearn.metrics.pairwise import cosine_similarity\n",
    "similarity = cosine_similarity(data)\n",
    "similarity"
   ]
  },
  {
   "cell_type": "code",
   "execution_count": 146,
   "id": "cead2c90",
   "metadata": {},
   "outputs": [],
   "source": [
    "def recommend(movie):\n",
    "    index = new_df[new_df['title'] == movie].index[0]\n",
    "    distance = sorted(list(enumerate(similarity[index])),reverse=True, key=lambda x: x[1])\n",
    "    \n",
    "    for i in distance[1:6]:\n",
    "        print(\"{} {}\".format(new_df.iloc[i[0]].title, new_df.iloc[i[0]].urls))"
   ]
  },
  {
   "cell_type": "code",
   "execution_count": 147,
   "id": "babcc9cc",
   "metadata": {},
   "outputs": [
    {
     "name": "stdout",
     "output_type": "stream",
     "text": [
      "Aliens https://www./Aliens\n",
      "Aliens vs Predator: Requiem http://www.avp-r.com/\n",
      "Titan A.E. https://www./TitanA.E.\n",
      "Independence Day https://www./IndependenceDay\n",
      "Battle: Los Angeles http://www.battlela.com\n"
     ]
    }
   ],
   "source": [
    "recommend(\"Avatar\")"
   ]
  },
  {
   "cell_type": "code",
   "execution_count": 148,
   "id": "012d9551",
   "metadata": {},
   "outputs": [
    {
     "name": "stdout",
     "output_type": "stream",
     "text": [
      "Batman https://www./Batman\n",
      "Batman & Robin https://www./Batman&Robin\n",
      "The R.M. http://www.halestormentertainment.com/p_movies_details.asp?mID=jnlppmp8\n",
      "Batman Begins http://www2.warnerbros.com/batmanbegins/index.html\n",
      "Batman Returns https://www./BatmanReturns\n"
     ]
    }
   ],
   "source": [
    "recommend('Batman')"
   ]
  },
  {
   "cell_type": "code",
   "execution_count": 149,
   "id": "3556dfb1",
   "metadata": {},
   "outputs": [
    {
     "name": "stdout",
     "output_type": "stream",
     "text": [
      "X-Men https://www./X-Men\n",
      "Superhero Movie https://www./SuperheroMovie\n",
      "Megamind http://www.megamind.com\n",
      "The Helix... Loaded https://www./TheHelix...Loaded\n",
      "Hellboy II: The Golden Army https://www./HellboyII:TheGoldenArmy\n"
     ]
    }
   ],
   "source": [
    "recommend('Suicide Squad')"
   ]
  },
  {
   "cell_type": "code",
   "execution_count": 150,
   "id": "aec45723",
   "metadata": {},
   "outputs": [
    {
     "name": "stdout",
     "output_type": "stream",
     "text": [
      "This Is Martin Bonner http://www.montereymedia.com/theatrical/films/this_is_martin_bonner.html\n",
      "30 Days of Night http://www.30daysofnight.com/\n",
      "The Fog http://www.theofficialjohncarpenter.com/the-fog/\n",
      "The Trouble with Harry https://www./TheTroublewithHarry\n",
      "Aliens vs Predator: Requiem http://www.avp-r.com/\n"
     ]
    }
   ],
   "source": [
    "recommend('After')"
   ]
  },
  {
   "cell_type": "code",
   "execution_count": 151,
   "id": "5f013f89",
   "metadata": {},
   "outputs": [],
   "source": [
    "import pickle"
   ]
  },
  {
   "cell_type": "code",
   "execution_count": 155,
   "id": "1d011ce4",
   "metadata": {},
   "outputs": [],
   "source": [
    "pickle.dump(new_df,open('movieRecmdn.pkl','wb'))\n",
    "pickle.dump(similarity,open('Mi_Similarity.pkl','wb'))"
   ]
  },
  {
   "cell_type": "code",
   "execution_count": 153,
   "id": "d0e36f85",
   "metadata": {},
   "outputs": [
    {
     "data": {
      "text/plain": [
       "array(['Avatar', \"Pirates of the Caribbean: At World's End\", 'Spectre',\n",
       "       ..., 'Signed, Sealed, Delivered', 'Shanghai Calling',\n",
       "       'My Date with Drew'], dtype=object)"
      ]
     },
     "execution_count": 153,
     "metadata": {},
     "output_type": "execute_result"
    }
   ],
   "source": [
    "np.array(new_df['title'])"
   ]
  },
  {
   "cell_type": "code",
   "execution_count": null,
   "id": "1f585328",
   "metadata": {},
   "outputs": [],
   "source": []
  },
  {
   "cell_type": "code",
   "execution_count": null,
   "id": "2fa0142d",
   "metadata": {},
   "outputs": [],
   "source": []
  },
  {
   "cell_type": "code",
   "execution_count": null,
   "id": "876ea9de",
   "metadata": {},
   "outputs": [],
   "source": []
  }
 ],
 "metadata": {
  "kernelspec": {
   "display_name": "Python 3 (ipykernel)",
   "language": "python",
   "name": "python3"
  },
  "language_info": {
   "codemirror_mode": {
    "name": "ipython",
    "version": 3
   },
   "file_extension": ".py",
   "mimetype": "text/x-python",
   "name": "python",
   "nbconvert_exporter": "python",
   "pygments_lexer": "ipython3",
   "version": "3.9.12"
  }
 },
 "nbformat": 4,
 "nbformat_minor": 5
}
